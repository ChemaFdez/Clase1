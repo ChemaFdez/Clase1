{
 "cells": [
  {
   "cell_type": "code",
   "execution_count": 24,
   "metadata": {},
   "outputs": [
    {
     "name": "stdout",
     "output_type": "stream",
     "text": [
      "La suma es 6\n"
     ]
    }
   ],
   "source": [
    "\n",
    "matriz = ([2,3],[3,4])\n",
    "def sumadiagonal(matriz):\n",
    "    suma = 0\n",
    "    for i in range(len(matriz[0])): \n",
    "        for j in range(len(matriz[0])):\n",
    "            if i == j:\n",
    "                suma = suma + matriz[i][j]\n",
    "    return suma\n",
    "print(\"La suma es\" ,sumadiagonal(matriz))\n",
    "\n",
    "\n",
    "        "
   ]
  },
  {
   "cell_type": "code",
   "execution_count": null,
   "metadata": {},
   "outputs": [],
   "source": []
  }
 ],
 "metadata": {
  "kernelspec": {
   "display_name": ".venv",
   "language": "python",
   "name": "python3"
  },
  "language_info": {
   "codemirror_mode": {
    "name": "ipython",
    "version": 3
   },
   "file_extension": ".py",
   "mimetype": "text/x-python",
   "name": "python",
   "nbconvert_exporter": "python",
   "pygments_lexer": "ipython3",
   "version": "3.12.0"
  }
 },
 "nbformat": 4,
 "nbformat_minor": 2
}
